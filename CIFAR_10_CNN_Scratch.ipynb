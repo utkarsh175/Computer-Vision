{
 "cells": [
  {
   "cell_type": "markdown",
   "metadata": {
    "papermill": {
     "duration": 0.005833,
     "end_time": "2021-03-01T02:45:49.261063",
     "exception": false,
     "start_time": "2021-03-01T02:45:49.255230",
     "status": "completed"
    },
    "tags": []
   },
   "source": [
    "# CIFAR 10 CNN"
   ]
  },
  {
   "cell_type": "code",
   "execution_count": 1,
   "metadata": {
    "_cell_guid": "b1076dfc-b9ad-4769-8c92-a6c4dae69d19",
    "_uuid": "8f2839f25d086af736a60e9eeb907d3b93b6e0e5",
    "execution": {
     "iopub.execute_input": "2021-03-01T02:45:49.276570Z",
     "iopub.status.busy": "2021-03-01T02:45:49.275913Z",
     "iopub.status.idle": "2021-03-01T02:45:54.633842Z",
     "shell.execute_reply": "2021-03-01T02:45:54.632815Z"
    },
    "papermill": {
     "duration": 5.368123,
     "end_time": "2021-03-01T02:45:54.634071",
     "exception": false,
     "start_time": "2021-03-01T02:45:49.265948",
     "status": "completed"
    },
    "tags": []
   },
   "outputs": [],
   "source": [
    "import sys\n",
    "from matplotlib import pyplot\n",
    "from keras.datasets import cifar10\n",
    "from keras.utils import to_categorical\n",
    "from keras.models import Sequential\n",
    "from keras.layers import Conv2D\n",
    "from keras.layers import MaxPooling2D\n",
    "from keras.layers import Dense\n",
    "from keras.layers import Flatten\n",
    "from keras.layers import Dropout\n",
    "from keras.optimizers import SGD"
   ]
  },
  {
   "cell_type": "code",
   "execution_count": 2,
   "metadata": {
    "execution": {
     "iopub.execute_input": "2021-03-01T02:45:54.650116Z",
     "iopub.status.busy": "2021-03-01T02:45:54.648939Z",
     "iopub.status.idle": "2021-03-01T02:45:54.651917Z",
     "shell.execute_reply": "2021-03-01T02:45:54.651490Z"
    },
    "papermill": {
     "duration": 0.012502,
     "end_time": "2021-03-01T02:45:54.652033",
     "exception": false,
     "start_time": "2021-03-01T02:45:54.639531",
     "status": "completed"
    },
    "tags": []
   },
   "outputs": [],
   "source": [
    "def load_dataset():\n",
    "    (trainX, trainY), (testX, testY) = cifar10.load_data()\n",
    "    trainY = to_categorical(trainY)\n",
    "    testY = to_categorical(testY)\n",
    "    return trainX, trainY, testX, testY"
   ]
  },
  {
   "cell_type": "code",
   "execution_count": 3,
   "metadata": {
    "execution": {
     "iopub.execute_input": "2021-03-01T02:45:54.666626Z",
     "iopub.status.busy": "2021-03-01T02:45:54.665968Z",
     "iopub.status.idle": "2021-03-01T02:45:54.668265Z",
     "shell.execute_reply": "2021-03-01T02:45:54.668742Z"
    },
    "papermill": {
     "duration": 0.011688,
     "end_time": "2021-03-01T02:45:54.668864",
     "exception": false,
     "start_time": "2021-03-01T02:45:54.657176",
     "status": "completed"
    },
    "tags": []
   },
   "outputs": [],
   "source": [
    "def prep_pixels(train, test):\n",
    "    train_norm = train.astype('float32')\n",
    "    test_norm = test.astype('float32')\n",
    "    train_norm = train_norm / 255.0\n",
    "    test_norm = test_norm / 255.0\n",
    "    return train_norm, test_norm"
   ]
  },
  {
   "cell_type": "code",
   "execution_count": 4,
   "metadata": {
    "execution": {
     "iopub.execute_input": "2021-03-01T02:45:54.684732Z",
     "iopub.status.busy": "2021-03-01T02:45:54.684099Z",
     "iopub.status.idle": "2021-03-01T02:45:54.686611Z",
     "shell.execute_reply": "2021-03-01T02:45:54.687046Z"
    },
    "papermill": {
     "duration": 0.013186,
     "end_time": "2021-03-01T02:45:54.687169",
     "exception": false,
     "start_time": "2021-03-01T02:45:54.673983",
     "status": "completed"
    },
    "tags": []
   },
   "outputs": [],
   "source": [
    "def summarize_diagnostics(history):\n",
    "    # plot loss\n",
    "    pyplot.subplot(211)\n",
    "    pyplot.title('Cross Entropy Loss')\n",
    "    pyplot.plot(history.history['loss'], color='blue', label='train')\n",
    "    pyplot.plot(history.history['val_loss'], color='orange', label='test')\n",
    "    # plot accuracy\n",
    "    pyplot.subplot(212)\n",
    "    pyplot.title('Classification Accuracy')\n",
    "    pyplot.plot(history.history['accuracy'], color='blue', label='train')\n",
    "    pyplot.plot(history.history['val_accuracy'], color='orange', label='test')"
   ]
  },
  {
   "cell_type": "code",
   "execution_count": 5,
   "metadata": {
    "execution": {
     "iopub.execute_input": "2021-03-01T02:45:54.707671Z",
     "iopub.status.busy": "2021-03-01T02:45:54.707154Z",
     "iopub.status.idle": "2021-03-01T02:45:57.716734Z",
     "shell.execute_reply": "2021-03-01T02:45:57.717456Z"
    },
    "papermill": {
     "duration": 3.025272,
     "end_time": "2021-03-01T02:45:57.717663",
     "exception": false,
     "start_time": "2021-03-01T02:45:54.692391",
     "status": "completed"
    },
    "tags": []
   },
   "outputs": [],
   "source": [
    "model = Sequential()\n",
    "model.add(Conv2D(32, (3, 3), activation='relu', kernel_initializer='he_uniform', padding='same', input_shape=(32, 32, 3)))\n",
    "model.add(Conv2D(32, (3, 3), activation='relu', kernel_initializer='he_uniform', padding='same'))\n",
    "model.add(MaxPooling2D((2, 2)))\n",
    "model.add(Dropout(0.2))\n",
    "model.add(Conv2D(64, (3, 3), activation='relu', kernel_initializer='he_uniform', padding='same'))\n",
    "model.add(Conv2D(64, (3, 3), activation='relu', kernel_initializer='he_uniform', padding='same'))\n",
    "model.add(MaxPooling2D((2, 2)))\n",
    "model.add(Dropout(0.3))\n",
    "model.add(Conv2D(128, (3, 3), activation='relu', kernel_initializer='he_uniform', padding='same'))\n",
    "model.add(Conv2D(128, (3, 3), activation='relu', kernel_initializer='he_uniform', padding='same'))\n",
    "model.add(MaxPooling2D((2, 2)))\n",
    "model.add(Dropout(0.4))\n",
    "model.add(Flatten())\n",
    "model.add(Dense(128, activation='relu', kernel_initializer='he_uniform'))\n",
    "model.add(Dropout(0.5))\n",
    "model.add(Dense(10, activation='softmax'))\n",
    "# compile model\n",
    "opt = SGD(lr=0.001, momentum=0.9)\n",
    "model.compile(optimizer=opt, loss='categorical_crossentropy', metrics=['accuracy'])"
   ]
  },
  {
   "cell_type": "code",
   "execution_count": 6,
   "metadata": {
    "execution": {
     "iopub.execute_input": "2021-03-01T02:45:57.742885Z",
     "iopub.status.busy": "2021-03-01T02:45:57.742108Z",
     "iopub.status.idle": "2021-03-01T02:59:04.301522Z",
     "shell.execute_reply": "2021-03-01T02:59:04.301948Z"
    },
    "papermill": {
     "duration": 786.57568,
     "end_time": "2021-03-01T02:59:04.302105",
     "exception": false,
     "start_time": "2021-03-01T02:45:57.726425",
     "status": "completed"
    },
    "tags": []
   },
   "outputs": [
    {
     "name": "stdout",
     "output_type": "stream",
     "text": [
      "Downloading data from https://www.cs.toronto.edu/~kriz/cifar-10-python.tar.gz\n",
      "170500096/170498071 [==============================] - 3s 0us/step\n",
      "Accuracy: 85.090\n"
     ]
    }
   ],
   "source": [
    "# load dataset\n",
    "trainX, trainY, testX, testY = load_dataset()\n",
    "# prepare pixel data\n",
    "trainX, testX = prep_pixels(trainX, testX)\n",
    "\n",
    "# fit model\n",
    "history = model.fit(trainX, trainY, epochs=200, batch_size=64, validation_data=(testX, testY), verbose=0)\n",
    "\n",
    "# evaluate model\n",
    "_, acc = model.evaluate(testX, testY, verbose=0)\n",
    "print('Accuracy: %.3f' % (acc * 100.0))"
   ]
  },
  {
   "cell_type": "code",
   "execution_count": 7,
   "metadata": {
    "execution": {
     "iopub.execute_input": "2021-03-01T02:59:04.364261Z",
     "iopub.status.busy": "2021-03-01T02:59:04.363275Z",
     "iopub.status.idle": "2021-03-01T02:59:04.587322Z",
     "shell.execute_reply": "2021-03-01T02:59:04.587731Z"
    },
    "papermill": {
     "duration": 0.263896,
     "end_time": "2021-03-01T02:59:04.587887",
     "exception": false,
     "start_time": "2021-03-01T02:59:04.323991",
     "status": "completed"
    },
    "tags": []
   },
   "outputs": [
    {
     "data": {
      "image/png": "[encoded data removed]",
      "text/plain": [
       "<Figure size 432x288 with 2 Axes>"
      ]
     },
     "metadata": {
      "needs_background": "light"
     },
     "output_type": "display_data"
    }
   ],
   "source": [
    "# learning curves\n",
    "summarize_diagnostics(history)"
   ]
  }
 ],
 "metadata": {
  "kernelspec": {
   "display_name": "Python 3",
   "language": "python",
   "name": "python3"
  },
  "language_info": {
   "codemirror_mode": {
    "name": "ipython",
    "version": 3
   },
   "file_extension": ".py",
   "mimetype": "text/x-python",
   "name": "python",
   "nbconvert_exporter": "python",
   "pygments_lexer": "ipython3",
   "version": "3.8.5"
  },
  "papermill": {
   "default_parameters": {},
   "duration": 801.852967,
   "end_time": "2021-03-01T02:59:06.134017",
   "environment_variables": {},
   "exception": null,
   "input_path": "__notebook__.ipynb",
   "output_path": "__notebook__.ipynb",
   "parameters": {},
   "start_time": "2021-03-01T02:45:44.281050",
   "version": "2.2.2"
  }
 },
 "nbformat": 4,
 "nbformat_minor": 4
}
